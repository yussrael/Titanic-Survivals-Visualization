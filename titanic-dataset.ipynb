{
 "cells": [
  {
   "cell_type": "code",
   "execution_count": 1,
   "id": "814bc4a6",
   "metadata": {
    "_cell_guid": "b1076dfc-b9ad-4769-8c92-a6c4dae69d19",
    "_uuid": "8f2839f25d086af736a60e9eeb907d3b93b6e0e5",
    "execution": {
     "iopub.execute_input": "2022-09-05T01:18:23.146161Z",
     "iopub.status.busy": "2022-09-05T01:18:23.145743Z",
     "iopub.status.idle": "2022-09-05T01:18:24.194832Z",
     "shell.execute_reply": "2022-09-05T01:18:24.193525Z"
    },
    "papermill": {
     "duration": 1.066083,
     "end_time": "2022-09-05T01:18:24.198144",
     "exception": false,
     "start_time": "2022-09-05T01:18:23.132061",
     "status": "completed"
    },
    "tags": []
   },
   "outputs": [
    {
     "name": "stdout",
     "output_type": "stream",
     "text": [
      "/kaggle/input/titanic/kaggle-titanic-master/titanic-solution.ipynb\n",
      "/kaggle/input/titanic/kaggle-titanic-master/images/titanic-disaster.jpg\n",
      "/kaggle/input/titanic/kaggle-titanic-master/input/train.csv\n",
      "/kaggle/input/titanic/kaggle-titanic-master/input/test.csv\n",
      "/kaggle/input/titanic/kaggle-titanic-master/input/gender_submission.csv\n",
      "/kaggle/input/titanic/kaggle-titanic-master/kaggle-titanic-master/titanic-solution.ipynb\n",
      "/kaggle/input/titanic/kaggle-titanic-master/kaggle-titanic-master/images/titanic-disaster.jpg\n",
      "/kaggle/input/titanic/kaggle-titanic-master/kaggle-titanic-master/input/train.csv\n",
      "/kaggle/input/titanic/kaggle-titanic-master/kaggle-titanic-master/input/test.csv\n",
      "/kaggle/input/titanic/kaggle-titanic-master/kaggle-titanic-master/input/gender_submission.csv\n",
      "/kaggle/input/test-file/tested.csv\n",
      "/kaggle/input/titanicdataset/train.csv\n"
     ]
    }
   ],
   "source": [
    "# This Python 3 environment comes with many helpful analytics libraries installed\n",
    "# It is defined by the kaggle/python Docker image: https://github.com/kaggle/docker-python\n",
    "# For example, here's several helpful packages to load\n",
    "\n",
    "import numpy as np # linear algebra\n",
    "import pandas as pd # data processing, CSV file I/O (e.g. pd.read_csv)\n",
    "import seaborn as sns\n",
    "import matplotlib.pyplot as plt\n",
    "# Input data files are available in the read-only \"../input/\" directory\n",
    "# For example, running this (by clicking run or pressing Shift+Enter) will list all files under the input directory\n",
    "\n",
    "import os\n",
    "for dirname, _, filenames in os.walk('/kaggle/input'):\n",
    "    for filename in filenames:\n",
    "        print(os.path.join(dirname, filename))\n",
    "\n",
    "# You can write up to 20GB to the current directory (/kaggle/working/) that gets preserved as output when you create a version using \"Save & Run All\" \n",
    "# You can also write temporary files to /kaggle/temp/, but they won't be saved outside of the current session"
   ]
  },
  {
   "cell_type": "code",
   "execution_count": 2,
   "id": "fb70ef88",
   "metadata": {
    "execution": {
     "iopub.execute_input": "2022-09-05T01:18:24.212632Z",
     "iopub.status.busy": "2022-09-05T01:18:24.211840Z",
     "iopub.status.idle": "2022-09-05T01:18:24.251652Z",
     "shell.execute_reply": "2022-09-05T01:18:24.250601Z"
    },
    "papermill": {
     "duration": 0.049315,
     "end_time": "2022-09-05T01:18:24.254034",
     "exception": false,
     "start_time": "2022-09-05T01:18:24.204719",
     "status": "completed"
    },
    "tags": []
   },
   "outputs": [
    {
     "data": {
      "text/html": [
       "<div>\n",
       "<style scoped>\n",
       "    .dataframe tbody tr th:only-of-type {\n",
       "        vertical-align: middle;\n",
       "    }\n",
       "\n",
       "    .dataframe tbody tr th {\n",
       "        vertical-align: top;\n",
       "    }\n",
       "\n",
       "    .dataframe thead th {\n",
       "        text-align: right;\n",
       "    }\n",
       "</style>\n",
       "<table border=\"1\" class=\"dataframe\">\n",
       "  <thead>\n",
       "    <tr style=\"text-align: right;\">\n",
       "      <th></th>\n",
       "      <th>PassengerId</th>\n",
       "      <th>Survived</th>\n",
       "      <th>Pclass</th>\n",
       "      <th>Name</th>\n",
       "      <th>Sex</th>\n",
       "      <th>Age</th>\n",
       "      <th>SibSp</th>\n",
       "      <th>Parch</th>\n",
       "      <th>Ticket</th>\n",
       "      <th>Fare</th>\n",
       "      <th>Cabin</th>\n",
       "      <th>Embarked</th>\n",
       "    </tr>\n",
       "  </thead>\n",
       "  <tbody>\n",
       "    <tr>\n",
       "      <th>0</th>\n",
       "      <td>1</td>\n",
       "      <td>0</td>\n",
       "      <td>3</td>\n",
       "      <td>Braund, Mr. Owen Harris</td>\n",
       "      <td>male</td>\n",
       "      <td>22.0</td>\n",
       "      <td>1</td>\n",
       "      <td>0</td>\n",
       "      <td>A/5 21171</td>\n",
       "      <td>7.2500</td>\n",
       "      <td>NaN</td>\n",
       "      <td>S</td>\n",
       "    </tr>\n",
       "    <tr>\n",
       "      <th>1</th>\n",
       "      <td>2</td>\n",
       "      <td>1</td>\n",
       "      <td>1</td>\n",
       "      <td>Cumings, Mrs. John Bradley (Florence Briggs Th...</td>\n",
       "      <td>female</td>\n",
       "      <td>38.0</td>\n",
       "      <td>1</td>\n",
       "      <td>0</td>\n",
       "      <td>PC 17599</td>\n",
       "      <td>71.2833</td>\n",
       "      <td>C85</td>\n",
       "      <td>C</td>\n",
       "    </tr>\n",
       "    <tr>\n",
       "      <th>2</th>\n",
       "      <td>3</td>\n",
       "      <td>1</td>\n",
       "      <td>3</td>\n",
       "      <td>Heikkinen, Miss. Laina</td>\n",
       "      <td>female</td>\n",
       "      <td>26.0</td>\n",
       "      <td>0</td>\n",
       "      <td>0</td>\n",
       "      <td>STON/O2. 3101282</td>\n",
       "      <td>7.9250</td>\n",
       "      <td>NaN</td>\n",
       "      <td>S</td>\n",
       "    </tr>\n",
       "    <tr>\n",
       "      <th>3</th>\n",
       "      <td>4</td>\n",
       "      <td>1</td>\n",
       "      <td>1</td>\n",
       "      <td>Futrelle, Mrs. Jacques Heath (Lily May Peel)</td>\n",
       "      <td>female</td>\n",
       "      <td>35.0</td>\n",
       "      <td>1</td>\n",
       "      <td>0</td>\n",
       "      <td>113803</td>\n",
       "      <td>53.1000</td>\n",
       "      <td>C123</td>\n",
       "      <td>S</td>\n",
       "    </tr>\n",
       "    <tr>\n",
       "      <th>4</th>\n",
       "      <td>5</td>\n",
       "      <td>0</td>\n",
       "      <td>3</td>\n",
       "      <td>Allen, Mr. William Henry</td>\n",
       "      <td>male</td>\n",
       "      <td>35.0</td>\n",
       "      <td>0</td>\n",
       "      <td>0</td>\n",
       "      <td>373450</td>\n",
       "      <td>8.0500</td>\n",
       "      <td>NaN</td>\n",
       "      <td>S</td>\n",
       "    </tr>\n",
       "  </tbody>\n",
       "</table>\n",
       "</div>"
      ],
      "text/plain": [
       "   PassengerId  Survived  Pclass  \\\n",
       "0            1         0       3   \n",
       "1            2         1       1   \n",
       "2            3         1       3   \n",
       "3            4         1       1   \n",
       "4            5         0       3   \n",
       "\n",
       "                                                Name     Sex   Age  SibSp  \\\n",
       "0                            Braund, Mr. Owen Harris    male  22.0      1   \n",
       "1  Cumings, Mrs. John Bradley (Florence Briggs Th...  female  38.0      1   \n",
       "2                             Heikkinen, Miss. Laina  female  26.0      0   \n",
       "3       Futrelle, Mrs. Jacques Heath (Lily May Peel)  female  35.0      1   \n",
       "4                           Allen, Mr. William Henry    male  35.0      0   \n",
       "\n",
       "   Parch            Ticket     Fare Cabin Embarked  \n",
       "0      0         A/5 21171   7.2500   NaN        S  \n",
       "1      0          PC 17599  71.2833   C85        C  \n",
       "2      0  STON/O2. 3101282   7.9250   NaN        S  \n",
       "3      0            113803  53.1000  C123        S  \n",
       "4      0            373450   8.0500   NaN        S  "
      ]
     },
     "execution_count": 2,
     "metadata": {},
     "output_type": "execute_result"
    }
   ],
   "source": [
    "titanic= pd.read_csv(\"../input/titanicdataset/train.csv\")\n",
    "titanic.head()"
   ]
  },
  {
   "cell_type": "code",
   "execution_count": 3,
   "id": "79ebcd94",
   "metadata": {
    "execution": {
     "iopub.execute_input": "2022-09-05T01:18:24.267683Z",
     "iopub.status.busy": "2022-09-05T01:18:24.267330Z",
     "iopub.status.idle": "2022-09-05T01:18:24.290574Z",
     "shell.execute_reply": "2022-09-05T01:18:24.289361Z"
    },
    "papermill": {
     "duration": 0.03219,
     "end_time": "2022-09-05T01:18:24.292612",
     "exception": false,
     "start_time": "2022-09-05T01:18:24.260422",
     "status": "completed"
    },
    "tags": []
   },
   "outputs": [
    {
     "name": "stdout",
     "output_type": "stream",
     "text": [
      "<class 'pandas.core.frame.DataFrame'>\n",
      "RangeIndex: 891 entries, 0 to 890\n",
      "Data columns (total 12 columns):\n",
      " #   Column       Non-Null Count  Dtype  \n",
      "---  ------       --------------  -----  \n",
      " 0   PassengerId  891 non-null    int64  \n",
      " 1   Survived     891 non-null    int64  \n",
      " 2   Pclass       891 non-null    int64  \n",
      " 3   Name         891 non-null    object \n",
      " 4   Sex          891 non-null    object \n",
      " 5   Age          714 non-null    float64\n",
      " 6   SibSp        891 non-null    int64  \n",
      " 7   Parch        891 non-null    int64  \n",
      " 8   Ticket       891 non-null    object \n",
      " 9   Fare         891 non-null    float64\n",
      " 10  Cabin        204 non-null    object \n",
      " 11  Embarked     889 non-null    object \n",
      "dtypes: float64(2), int64(5), object(5)\n",
      "memory usage: 83.7+ KB\n"
     ]
    }
   ],
   "source": [
    "titanic.info()"
   ]
  },
  {
   "cell_type": "code",
   "execution_count": 4,
   "id": "717f2350",
   "metadata": {
    "execution": {
     "iopub.execute_input": "2022-09-05T01:18:24.307199Z",
     "iopub.status.busy": "2022-09-05T01:18:24.306591Z",
     "iopub.status.idle": "2022-09-05T01:18:24.313295Z",
     "shell.execute_reply": "2022-09-05T01:18:24.312320Z"
    },
    "papermill": {
     "duration": 0.016146,
     "end_time": "2022-09-05T01:18:24.315367",
     "exception": false,
     "start_time": "2022-09-05T01:18:24.299221",
     "status": "completed"
    },
    "tags": []
   },
   "outputs": [
    {
     "data": {
      "text/plain": [
       "(891, 12)"
      ]
     },
     "execution_count": 4,
     "metadata": {},
     "output_type": "execute_result"
    }
   ],
   "source": [
    "titanic.shape"
   ]
  },
  {
   "cell_type": "markdown",
   "id": "90d93b52",
   "metadata": {
    "papermill": {
     "duration": 0.005724,
     "end_time": "2022-09-05T01:18:24.327404",
     "exception": false,
     "start_time": "2022-09-05T01:18:24.321680",
     "status": "completed"
    },
    "tags": []
   },
   "source": [
    "# Missing Data and Duplication"
   ]
  },
  {
   "cell_type": "code",
   "execution_count": 5,
   "id": "1d8e601f",
   "metadata": {
    "execution": {
     "iopub.execute_input": "2022-09-05T01:18:24.341766Z",
     "iopub.status.busy": "2022-09-05T01:18:24.341082Z",
     "iopub.status.idle": "2022-09-05T01:18:24.350871Z",
     "shell.execute_reply": "2022-09-05T01:18:24.349108Z"
    },
    "papermill": {
     "duration": 0.020163,
     "end_time": "2022-09-05T01:18:24.353511",
     "exception": false,
     "start_time": "2022-09-05T01:18:24.333348",
     "status": "completed"
    },
    "tags": []
   },
   "outputs": [
    {
     "name": "stdout",
     "output_type": "stream",
     "text": [
      "PassengerId     0.00\n",
      "Survived        0.00\n",
      "Pclass          0.00\n",
      "Name            0.00\n",
      "Sex             0.00\n",
      "Age            19.87\n",
      "SibSp           0.00\n",
      "Parch           0.00\n",
      "Ticket          0.00\n",
      "Fare            0.00\n",
      "Cabin          77.10\n",
      "Embarked        0.22\n",
      "dtype: float64\n"
     ]
    }
   ],
   "source": [
    "missing= titanic.isna().sum()\n",
    "total_cells=len(titanic.index)\n",
    "percentage=round((missing/total_cells)*100,2)\n",
    "print(percentage)"
   ]
  },
  {
   "cell_type": "code",
   "execution_count": 6,
   "id": "dd081213",
   "metadata": {
    "execution": {
     "iopub.execute_input": "2022-09-05T01:18:24.368726Z",
     "iopub.status.busy": "2022-09-05T01:18:24.367975Z",
     "iopub.status.idle": "2022-09-05T01:18:24.384601Z",
     "shell.execute_reply": "2022-09-05T01:18:24.383569Z"
    },
    "papermill": {
     "duration": 0.026032,
     "end_time": "2022-09-05T01:18:24.386608",
     "exception": false,
     "start_time": "2022-09-05T01:18:24.360576",
     "status": "completed"
    },
    "tags": []
   },
   "outputs": [
    {
     "data": {
      "text/html": [
       "<div>\n",
       "<style scoped>\n",
       "    .dataframe tbody tr th:only-of-type {\n",
       "        vertical-align: middle;\n",
       "    }\n",
       "\n",
       "    .dataframe tbody tr th {\n",
       "        vertical-align: top;\n",
       "    }\n",
       "\n",
       "    .dataframe thead th {\n",
       "        text-align: right;\n",
       "    }\n",
       "</style>\n",
       "<table border=\"1\" class=\"dataframe\">\n",
       "  <thead>\n",
       "    <tr style=\"text-align: right;\">\n",
       "      <th></th>\n",
       "      <th>PassengerId</th>\n",
       "      <th>Survived</th>\n",
       "      <th>Pclass</th>\n",
       "      <th>Name</th>\n",
       "      <th>Sex</th>\n",
       "      <th>Age</th>\n",
       "      <th>SibSp</th>\n",
       "      <th>Parch</th>\n",
       "      <th>Ticket</th>\n",
       "      <th>Fare</th>\n",
       "      <th>Embarked</th>\n",
       "    </tr>\n",
       "  </thead>\n",
       "  <tbody>\n",
       "    <tr>\n",
       "      <th>0</th>\n",
       "      <td>1</td>\n",
       "      <td>0</td>\n",
       "      <td>3</td>\n",
       "      <td>Braund, Mr. Owen Harris</td>\n",
       "      <td>male</td>\n",
       "      <td>22.0</td>\n",
       "      <td>1</td>\n",
       "      <td>0</td>\n",
       "      <td>A/5 21171</td>\n",
       "      <td>7.2500</td>\n",
       "      <td>S</td>\n",
       "    </tr>\n",
       "    <tr>\n",
       "      <th>1</th>\n",
       "      <td>2</td>\n",
       "      <td>1</td>\n",
       "      <td>1</td>\n",
       "      <td>Cumings, Mrs. John Bradley (Florence Briggs Th...</td>\n",
       "      <td>female</td>\n",
       "      <td>38.0</td>\n",
       "      <td>1</td>\n",
       "      <td>0</td>\n",
       "      <td>PC 17599</td>\n",
       "      <td>71.2833</td>\n",
       "      <td>C</td>\n",
       "    </tr>\n",
       "    <tr>\n",
       "      <th>2</th>\n",
       "      <td>3</td>\n",
       "      <td>1</td>\n",
       "      <td>3</td>\n",
       "      <td>Heikkinen, Miss. Laina</td>\n",
       "      <td>female</td>\n",
       "      <td>26.0</td>\n",
       "      <td>0</td>\n",
       "      <td>0</td>\n",
       "      <td>STON/O2. 3101282</td>\n",
       "      <td>7.9250</td>\n",
       "      <td>S</td>\n",
       "    </tr>\n",
       "    <tr>\n",
       "      <th>3</th>\n",
       "      <td>4</td>\n",
       "      <td>1</td>\n",
       "      <td>1</td>\n",
       "      <td>Futrelle, Mrs. Jacques Heath (Lily May Peel)</td>\n",
       "      <td>female</td>\n",
       "      <td>35.0</td>\n",
       "      <td>1</td>\n",
       "      <td>0</td>\n",
       "      <td>113803</td>\n",
       "      <td>53.1000</td>\n",
       "      <td>S</td>\n",
       "    </tr>\n",
       "    <tr>\n",
       "      <th>4</th>\n",
       "      <td>5</td>\n",
       "      <td>0</td>\n",
       "      <td>3</td>\n",
       "      <td>Allen, Mr. William Henry</td>\n",
       "      <td>male</td>\n",
       "      <td>35.0</td>\n",
       "      <td>0</td>\n",
       "      <td>0</td>\n",
       "      <td>373450</td>\n",
       "      <td>8.0500</td>\n",
       "      <td>S</td>\n",
       "    </tr>\n",
       "  </tbody>\n",
       "</table>\n",
       "</div>"
      ],
      "text/plain": [
       "   PassengerId  Survived  Pclass  \\\n",
       "0            1         0       3   \n",
       "1            2         1       1   \n",
       "2            3         1       3   \n",
       "3            4         1       1   \n",
       "4            5         0       3   \n",
       "\n",
       "                                                Name     Sex   Age  SibSp  \\\n",
       "0                            Braund, Mr. Owen Harris    male  22.0      1   \n",
       "1  Cumings, Mrs. John Bradley (Florence Briggs Th...  female  38.0      1   \n",
       "2                             Heikkinen, Miss. Laina  female  26.0      0   \n",
       "3       Futrelle, Mrs. Jacques Heath (Lily May Peel)  female  35.0      1   \n",
       "4                           Allen, Mr. William Henry    male  35.0      0   \n",
       "\n",
       "   Parch            Ticket     Fare Embarked  \n",
       "0      0         A/5 21171   7.2500        S  \n",
       "1      0          PC 17599  71.2833        C  \n",
       "2      0  STON/O2. 3101282   7.9250        S  \n",
       "3      0            113803  53.1000        S  \n",
       "4      0            373450   8.0500        S  "
      ]
     },
     "execution_count": 6,
     "metadata": {},
     "output_type": "execute_result"
    }
   ],
   "source": [
    "titanic= titanic.drop(['Cabin'], axis=1)\n",
    "titanic.head()"
   ]
  },
  {
   "cell_type": "code",
   "execution_count": 7,
   "id": "bfdcdf7e",
   "metadata": {
    "execution": {
     "iopub.execute_input": "2022-09-05T01:18:24.401573Z",
     "iopub.status.busy": "2022-09-05T01:18:24.400684Z",
     "iopub.status.idle": "2022-09-05T01:18:24.407407Z",
     "shell.execute_reply": "2022-09-05T01:18:24.406695Z"
    },
    "papermill": {
     "duration": 0.016235,
     "end_time": "2022-09-05T01:18:24.409425",
     "exception": false,
     "start_time": "2022-09-05T01:18:24.393190",
     "status": "completed"
    },
    "tags": []
   },
   "outputs": [],
   "source": [
    "age= titanic['Age'].mean()\n",
    "fare= titanic['Fare'].mean()\n",
    "titanic = titanic.fillna({'Age' : age , 'Fare' : fare})\n",
    "titanic['Age'] = titanic['Age'].astype(int)"
   ]
  },
  {
   "cell_type": "code",
   "execution_count": 8,
   "id": "b2f886b0",
   "metadata": {
    "execution": {
     "iopub.execute_input": "2022-09-05T01:18:24.424359Z",
     "iopub.status.busy": "2022-09-05T01:18:24.424017Z",
     "iopub.status.idle": "2022-09-05T01:18:24.434475Z",
     "shell.execute_reply": "2022-09-05T01:18:24.433610Z"
    },
    "papermill": {
     "duration": 0.020286,
     "end_time": "2022-09-05T01:18:24.436486",
     "exception": false,
     "start_time": "2022-09-05T01:18:24.416200",
     "status": "completed"
    },
    "tags": []
   },
   "outputs": [
    {
     "data": {
      "text/plain": [
       "0"
      ]
     },
     "execution_count": 8,
     "metadata": {},
     "output_type": "execute_result"
    }
   ],
   "source": [
    "titanic.duplicated().sum()"
   ]
  },
  {
   "cell_type": "markdown",
   "id": "e011d5d5",
   "metadata": {
    "papermill": {
     "duration": 0.006359,
     "end_time": "2022-09-05T01:18:24.449691",
     "exception": false,
     "start_time": "2022-09-05T01:18:24.443332",
     "status": "completed"
    },
    "tags": []
   },
   "source": [
    "# Outliers"
   ]
  },
  {
   "cell_type": "code",
   "execution_count": 9,
   "id": "63d1f20b",
   "metadata": {
    "execution": {
     "iopub.execute_input": "2022-09-05T01:18:24.464884Z",
     "iopub.status.busy": "2022-09-05T01:18:24.464263Z",
     "iopub.status.idle": "2022-09-05T01:18:24.743444Z",
     "shell.execute_reply": "2022-09-05T01:18:24.742398Z"
    },
    "papermill": {
     "duration": 0.289325,
     "end_time": "2022-09-05T01:18:24.745636",
     "exception": false,
     "start_time": "2022-09-05T01:18:24.456311",
     "status": "completed"
    },
    "tags": []
   },
   "outputs": [
    {
     "data": {
      "image/png": "[encoded data removed]",
      "text/plain": [
       "<Figure size 504x360 with 2 Axes>"
      ]
     },
     "metadata": {
      "needs_background": "light"
     },
     "output_type": "display_data"
    }
   ],
   "source": [
    "\n",
    "fig, ( ax1, ax2) = plt.subplots(nrows=1, ncols=2, sharey=True, figsize=(7,5))\n",
    "titanic.boxplot('Age', ax=ax1)\n",
    "titanic.boxplot('Fare', ax=ax2)\n",
    "plt.show()\n"
   ]
  },
  {
   "cell_type": "code",
   "execution_count": 10,
   "id": "33e5d785",
   "metadata": {
    "execution": {
     "iopub.execute_input": "2022-09-05T01:18:24.761664Z",
     "iopub.status.busy": "2022-09-05T01:18:24.761284Z",
     "iopub.status.idle": "2022-09-05T01:18:24.767402Z",
     "shell.execute_reply": "2022-09-05T01:18:24.766482Z"
    },
    "papermill": {
     "duration": 0.016704,
     "end_time": "2022-09-05T01:18:24.769588",
     "exception": false,
     "start_time": "2022-09-05T01:18:24.752884",
     "status": "completed"
    },
    "tags": []
   },
   "outputs": [],
   "source": [
    "#from above outliers exist in last two numeric columns : {Age, Fare}\n",
    "def outliers(df,ft):\n",
    "    Q1 = df[ft].quantile(0.25)\n",
    "    Q3 = df[ft].quantile(0.75)\n",
    "    IQR = Q3 - Q1\n",
    "    lowerBound = Q1 - 1.5 * IQR\n",
    "    upperBound = Q3 + 1.5 * IQR\n",
    "    lst = df.index[(df[ft] < lowerBound)|(df[ft] > upperBound)]\n",
    "    return lst"
   ]
  },
  {
   "cell_type": "code",
   "execution_count": 11,
   "id": "8e22d44f",
   "metadata": {
    "execution": {
     "iopub.execute_input": "2022-09-05T01:18:24.784894Z",
     "iopub.status.busy": "2022-09-05T01:18:24.784568Z",
     "iopub.status.idle": "2022-09-05T01:18:24.796232Z",
     "shell.execute_reply": "2022-09-05T01:18:24.795476Z"
    },
    "papermill": {
     "duration": 0.0219,
     "end_time": "2022-09-05T01:18:24.798234",
     "exception": false,
     "start_time": "2022-09-05T01:18:24.776334",
     "status": "completed"
    },
    "tags": []
   },
   "outputs": [],
   "source": [
    "\n",
    "lst=[]\n",
    "for ft1 in ['Age']:\n",
    "    lst.extend(outliers(titanic,ft1))\n",
    "for ft2 in ['Fare']:\n",
    "    lst.extend(outliers(titanic,ft2))\n",
    "titanic = titanic.drop(lst)\n"
   ]
  },
  {
   "cell_type": "markdown",
   "id": "b0b7cd17",
   "metadata": {
    "papermill": {
     "duration": 0.006849,
     "end_time": "2022-09-05T01:18:24.811594",
     "exception": false,
     "start_time": "2022-09-05T01:18:24.804745",
     "status": "completed"
    },
    "tags": []
   },
   "source": [
    "# Visualization of survivals"
   ]
  },
  {
   "cell_type": "markdown",
   "id": "4ae87580",
   "metadata": {
    "papermill": {
     "duration": 0.006608,
     "end_time": "2022-09-05T01:18:24.825200",
     "exception": false,
     "start_time": "2022-09-05T01:18:24.818592",
     "status": "completed"
    },
    "tags": []
   },
   "source": [
    "*Survivals according to Age nd Gender*"
   ]
  },
  {
   "cell_type": "code",
   "execution_count": 12,
   "id": "96bf01e4",
   "metadata": {
    "execution": {
     "iopub.execute_input": "2022-09-05T01:18:24.840981Z",
     "iopub.status.busy": "2022-09-05T01:18:24.840249Z",
     "iopub.status.idle": "2022-09-05T01:18:24.855904Z",
     "shell.execute_reply": "2022-09-05T01:18:24.854872Z"
    },
    "papermill": {
     "duration": 0.025679,
     "end_time": "2022-09-05T01:18:24.857844",
     "exception": false,
     "start_time": "2022-09-05T01:18:24.832165",
     "status": "completed"
    },
    "tags": []
   },
   "outputs": [
    {
     "data": {
      "text/html": [
       "<div>\n",
       "<style scoped>\n",
       "    .dataframe tbody tr th:only-of-type {\n",
       "        vertical-align: middle;\n",
       "    }\n",
       "\n",
       "    .dataframe tbody tr th {\n",
       "        vertical-align: top;\n",
       "    }\n",
       "\n",
       "    .dataframe thead th {\n",
       "        text-align: right;\n",
       "    }\n",
       "</style>\n",
       "<table border=\"1\" class=\"dataframe\">\n",
       "  <thead>\n",
       "    <tr style=\"text-align: right;\">\n",
       "      <th></th>\n",
       "      <th>Sex</th>\n",
       "      <th>Survived</th>\n",
       "    </tr>\n",
       "  </thead>\n",
       "  <tbody>\n",
       "    <tr>\n",
       "      <th>0</th>\n",
       "      <td>female</td>\n",
       "      <td>0.688312</td>\n",
       "    </tr>\n",
       "    <tr>\n",
       "      <th>1</th>\n",
       "      <td>male</td>\n",
       "      <td>0.171429</td>\n",
       "    </tr>\n",
       "  </tbody>\n",
       "</table>\n",
       "</div>"
      ],
      "text/plain": [
       "      Sex  Survived\n",
       "0  female  0.688312\n",
       "1    male  0.171429"
      ]
     },
     "execution_count": 12,
     "metadata": {},
     "output_type": "execute_result"
    }
   ],
   "source": [
    "titanic[['Sex','Survived']].groupby(['Sex'],as_index=False).mean().sort_values(by='Survived',ascending=0)"
   ]
  },
  {
   "cell_type": "code",
   "execution_count": 13,
   "id": "eb3933de",
   "metadata": {
    "execution": {
     "iopub.execute_input": "2022-09-05T01:18:24.873798Z",
     "iopub.status.busy": "2022-09-05T01:18:24.872868Z",
     "iopub.status.idle": "2022-09-05T01:18:25.548779Z",
     "shell.execute_reply": "2022-09-05T01:18:25.547694Z"
    },
    "papermill": {
     "duration": 0.686308,
     "end_time": "2022-09-05T01:18:25.551049",
     "exception": false,
     "start_time": "2022-09-05T01:18:24.864741",
     "status": "completed"
    },
    "tags": []
   },
   "outputs": [
    {
     "data": {
      "image/png": "[encoded data removed]",
      "text/plain": [
       "<Figure size 432x288 with 1 Axes>"
      ]
     },
     "metadata": {
      "needs_background": "light"
     },
     "output_type": "display_data"
    }
   ],
   "source": [
    "survivals = titanic.loc[titanic.Survived == 1]\n",
    "sns.countplot(data = survivals, x = 'Age', hue = 'Sex')\n",
    "plt.xticks(rotation=90)\n",
    "sns.set(rc={'figure.figsize':(18,8.27)})\n",
    "plt.show()"
   ]
  },
  {
   "cell_type": "markdown",
   "id": "2335027f",
   "metadata": {
    "papermill": {
     "duration": 0.00705,
     "end_time": "2022-09-05T01:18:25.565623",
     "exception": false,
     "start_time": "2022-09-05T01:18:25.558573",
     "status": "completed"
    },
    "tags": []
   },
   "source": [
    "*according to class*"
   ]
  },
  {
   "cell_type": "code",
   "execution_count": 14,
   "id": "056c97fc",
   "metadata": {
    "execution": {
     "iopub.execute_input": "2022-09-05T01:18:25.581886Z",
     "iopub.status.busy": "2022-09-05T01:18:25.581538Z",
     "iopub.status.idle": "2022-09-05T01:18:25.879492Z",
     "shell.execute_reply": "2022-09-05T01:18:25.878463Z"
    },
    "papermill": {
     "duration": 0.308836,
     "end_time": "2022-09-05T01:18:25.881864",
     "exception": false,
     "start_time": "2022-09-05T01:18:25.573028",
     "status": "completed"
    },
    "tags": []
   },
   "outputs": [
    {
     "data": {
      "text/plain": [
       "Text(0.5, 1.0, 'survivals according to their class')"
      ]
     },
     "execution_count": 14,
     "metadata": {},
     "output_type": "execute_result"
    },
    {
     "data": {
      "image/png": "[encoded data removed]",
      "text/plain": [
       "<Figure size 1296x595.44 with 1 Axes>"
      ]
     },
     "metadata": {},
     "output_type": "display_data"
    }
   ],
   "source": [
    "sns.countplot(data = titanic, x = 'Pclass', hue = 'Survived')\n",
    "sns.set(rc={'figure.figsize':(7,7)})\n",
    "plt.title('survivals according to their class')"
   ]
  },
  {
   "cell_type": "markdown",
   "id": "b0df30cb",
   "metadata": {
    "papermill": {
     "duration": 0.007612,
     "end_time": "2022-09-05T01:18:25.897469",
     "exception": false,
     "start_time": "2022-09-05T01:18:25.889857",
     "status": "completed"
    },
    "tags": []
   },
   "source": [
    "*accroding to fare and the class*"
   ]
  },
  {
   "cell_type": "code",
   "execution_count": 15,
   "id": "9f93ce4b",
   "metadata": {
    "execution": {
     "iopub.execute_input": "2022-09-05T01:18:25.914465Z",
     "iopub.status.busy": "2022-09-05T01:18:25.914052Z",
     "iopub.status.idle": "2022-09-05T01:18:25.930221Z",
     "shell.execute_reply": "2022-09-05T01:18:25.929206Z"
    },
    "papermill": {
     "duration": 0.027338,
     "end_time": "2022-09-05T01:18:25.932320",
     "exception": false,
     "start_time": "2022-09-05T01:18:25.904982",
     "status": "completed"
    },
    "tags": []
   },
   "outputs": [
    {
     "data": {
      "text/html": [
       "<div>\n",
       "<style scoped>\n",
       "    .dataframe tbody tr th:only-of-type {\n",
       "        vertical-align: middle;\n",
       "    }\n",
       "\n",
       "    .dataframe tbody tr th {\n",
       "        vertical-align: top;\n",
       "    }\n",
       "\n",
       "    .dataframe thead th {\n",
       "        text-align: right;\n",
       "    }\n",
       "</style>\n",
       "<table border=\"1\" class=\"dataframe\">\n",
       "  <thead>\n",
       "    <tr style=\"text-align: right;\">\n",
       "      <th></th>\n",
       "      <th>Survived</th>\n",
       "      <th>Fare</th>\n",
       "    </tr>\n",
       "    <tr>\n",
       "      <th>Pclass</th>\n",
       "      <th></th>\n",
       "      <th></th>\n",
       "    </tr>\n",
       "  </thead>\n",
       "  <tbody>\n",
       "    <tr>\n",
       "      <th>1</th>\n",
       "      <td>54</td>\n",
       "      <td>3596.2793</td>\n",
       "    </tr>\n",
       "    <tr>\n",
       "      <th>2</th>\n",
       "      <td>78</td>\n",
       "      <td>3121.2375</td>\n",
       "    </tr>\n",
       "    <tr>\n",
       "      <th>3</th>\n",
       "      <td>111</td>\n",
       "      <td>5820.5618</td>\n",
       "    </tr>\n",
       "  </tbody>\n",
       "</table>\n",
       "</div>"
      ],
      "text/plain": [
       "        Survived       Fare\n",
       "Pclass                     \n",
       "1             54  3596.2793\n",
       "2             78  3121.2375\n",
       "3            111  5820.5618"
      ]
     },
     "execution_count": 15,
     "metadata": {},
     "output_type": "execute_result"
    }
   ],
   "source": [
    "titanic.groupby('Pclass')[['Survived','Fare']].sum()"
   ]
  },
  {
   "cell_type": "code",
   "execution_count": 16,
   "id": "e7c58eda",
   "metadata": {
    "execution": {
     "iopub.execute_input": "2022-09-05T01:18:25.949838Z",
     "iopub.status.busy": "2022-09-05T01:18:25.949174Z",
     "iopub.status.idle": "2022-09-05T01:18:25.960848Z",
     "shell.execute_reply": "2022-09-05T01:18:25.960150Z"
    },
    "papermill": {
     "duration": 0.022128,
     "end_time": "2022-09-05T01:18:25.962692",
     "exception": false,
     "start_time": "2022-09-05T01:18:25.940564",
     "status": "completed"
    },
    "tags": []
   },
   "outputs": [
    {
     "data": {
      "text/html": [
       "<div>\n",
       "<style scoped>\n",
       "    .dataframe tbody tr th:only-of-type {\n",
       "        vertical-align: middle;\n",
       "    }\n",
       "\n",
       "    .dataframe tbody tr th {\n",
       "        vertical-align: top;\n",
       "    }\n",
       "\n",
       "    .dataframe thead th {\n",
       "        text-align: right;\n",
       "    }\n",
       "</style>\n",
       "<table border=\"1\" class=\"dataframe\">\n",
       "  <thead>\n",
       "    <tr style=\"text-align: right;\">\n",
       "      <th></th>\n",
       "      <th>Sex</th>\n",
       "      <th>Survived</th>\n",
       "    </tr>\n",
       "  </thead>\n",
       "  <tbody>\n",
       "    <tr>\n",
       "      <th>0</th>\n",
       "      <td>female</td>\n",
       "      <td>0.688312</td>\n",
       "    </tr>\n",
       "    <tr>\n",
       "      <th>1</th>\n",
       "      <td>male</td>\n",
       "      <td>0.171429</td>\n",
       "    </tr>\n",
       "  </tbody>\n",
       "</table>\n",
       "</div>"
      ],
      "text/plain": [
       "      Sex  Survived\n",
       "0  female  0.688312\n",
       "1    male  0.171429"
      ]
     },
     "execution_count": 16,
     "metadata": {},
     "output_type": "execute_result"
    }
   ],
   "source": [
    "titanic.groupby('Sex', as_index=False)[['Survived']].mean()"
   ]
  },
  {
   "cell_type": "code",
   "execution_count": 17,
   "id": "6f241d1d",
   "metadata": {
    "execution": {
     "iopub.execute_input": "2022-09-05T01:18:25.981132Z",
     "iopub.status.busy": "2022-09-05T01:18:25.980198Z",
     "iopub.status.idle": "2022-09-05T01:18:25.988358Z",
     "shell.execute_reply": "2022-09-05T01:18:25.987675Z"
    },
    "papermill": {
     "duration": 0.019308,
     "end_time": "2022-09-05T01:18:25.990245",
     "exception": false,
     "start_time": "2022-09-05T01:18:25.970937",
     "status": "completed"
    },
    "tags": []
   },
   "outputs": [],
   "source": [
    "t1=titanic.groupby(['Pclass','Sex'], as_index=False)[['Survived']].sum()\n"
   ]
  },
  {
   "cell_type": "code",
   "execution_count": 18,
   "id": "8580c4d7",
   "metadata": {
    "execution": {
     "iopub.execute_input": "2022-09-05T01:18:26.007686Z",
     "iopub.status.busy": "2022-09-05T01:18:26.007085Z",
     "iopub.status.idle": "2022-09-05T01:18:26.572770Z",
     "shell.execute_reply": "2022-09-05T01:18:26.571364Z"
    },
    "papermill": {
     "duration": 0.577339,
     "end_time": "2022-09-05T01:18:26.575283",
     "exception": false,
     "start_time": "2022-09-05T01:18:25.997944",
     "status": "completed"
    },
    "tags": []
   },
   "outputs": [
    {
     "data": {
      "text/plain": [
       "<seaborn.axisgrid.FacetGrid at 0x7fa012edca10>"
      ]
     },
     "execution_count": 18,
     "metadata": {},
     "output_type": "execute_result"
    },
    {
     "data": {
      "image/png": "[encoded data removed]",
      "text/plain": [
       "<Figure size 437.975x360 with 1 Axes>"
      ]
     },
     "metadata": {},
     "output_type": "display_data"
    }
   ],
   "source": [
    "sns.relplot(data=t1, x='Pclass', y='Survived', hue='Sex', kind='line')\n",
    "#a plot shows the diversity in survived number of people according to their class in both males and females"
   ]
  },
  {
   "cell_type": "code",
   "execution_count": 19,
   "id": "08c586f4",
   "metadata": {
    "execution": {
     "iopub.execute_input": "2022-09-05T01:18:26.601209Z",
     "iopub.status.busy": "2022-09-05T01:18:26.600500Z",
     "iopub.status.idle": "2022-09-05T01:18:26.613135Z",
     "shell.execute_reply": "2022-09-05T01:18:26.611912Z"
    },
    "papermill": {
     "duration": 0.027679,
     "end_time": "2022-09-05T01:18:26.615358",
     "exception": false,
     "start_time": "2022-09-05T01:18:26.587679",
     "status": "completed"
    },
    "tags": []
   },
   "outputs": [
    {
     "data": {
      "text/html": [
       "<div>\n",
       "<style scoped>\n",
       "    .dataframe tbody tr th:only-of-type {\n",
       "        vertical-align: middle;\n",
       "    }\n",
       "\n",
       "    .dataframe tbody tr th {\n",
       "        vertical-align: top;\n",
       "    }\n",
       "\n",
       "    .dataframe thead th {\n",
       "        text-align: right;\n",
       "    }\n",
       "</style>\n",
       "<table border=\"1\" class=\"dataframe\">\n",
       "  <thead>\n",
       "    <tr style=\"text-align: right;\">\n",
       "      <th></th>\n",
       "      <th>Survived</th>\n",
       "      <th>SibSp</th>\n",
       "    </tr>\n",
       "  </thead>\n",
       "  <tbody>\n",
       "    <tr>\n",
       "      <th>0</th>\n",
       "      <td>0</td>\n",
       "      <td>197</td>\n",
       "    </tr>\n",
       "    <tr>\n",
       "      <th>1</th>\n",
       "      <td>1</td>\n",
       "      <td>102</td>\n",
       "    </tr>\n",
       "  </tbody>\n",
       "</table>\n",
       "</div>"
      ],
      "text/plain": [
       "   Survived  SibSp\n",
       "0         0    197\n",
       "1         1    102"
      ]
     },
     "execution_count": 19,
     "metadata": {},
     "output_type": "execute_result"
    }
   ],
   "source": [
    "titanic.groupby('Survived', as_index=False)['SibSp'].sum()"
   ]
  },
  {
   "cell_type": "code",
   "execution_count": 20,
   "id": "d563e155",
   "metadata": {
    "execution": {
     "iopub.execute_input": "2022-09-05T01:18:26.636218Z",
     "iopub.status.busy": "2022-09-05T01:18:26.635552Z",
     "iopub.status.idle": "2022-09-05T01:18:26.950585Z",
     "shell.execute_reply": "2022-09-05T01:18:26.949493Z"
    },
    "papermill": {
     "duration": 0.32847,
     "end_time": "2022-09-05T01:18:26.953248",
     "exception": false,
     "start_time": "2022-09-05T01:18:26.624778",
     "status": "completed"
    },
    "tags": []
   },
   "outputs": [
    {
     "data": {
      "image/png": "[encoded data removed]",
      "text/plain": [
       "<Figure size 504x504 with 1 Axes>"
      ]
     },
     "metadata": {},
     "output_type": "display_data"
    }
   ],
   "source": [
    "sns.set_palette(\"PRGn\")\n",
    "titanic.groupby('Survived', as_index=False)['SibSp'].plot.hist(histtype= 'bar',alpha = 0.8)\n",
    "sns.set(rc={'figure.figsize':(7,8.27)})\n",
    "plt.legend(('Died','Survived'),)\n",
    "plt.show()"
   ]
  },
  {
   "cell_type": "code",
   "execution_count": 21,
   "id": "52cdf9db",
   "metadata": {
    "execution": {
     "iopub.execute_input": "2022-09-05T01:18:26.974495Z",
     "iopub.status.busy": "2022-09-05T01:18:26.973831Z",
     "iopub.status.idle": "2022-09-05T01:18:27.527472Z",
     "shell.execute_reply": "2022-09-05T01:18:27.526177Z"
    },
    "papermill": {
     "duration": 0.56683,
     "end_time": "2022-09-05T01:18:27.529749",
     "exception": false,
     "start_time": "2022-09-05T01:18:26.962919",
     "status": "completed"
    },
    "tags": []
   },
   "outputs": [
    {
     "data": {
      "text/plain": [
       "Text(0.5, 1.0, 'how Families located in different calss could make it')"
      ]
     },
     "execution_count": 21,
     "metadata": {},
     "output_type": "execute_result"
    },
    {
     "data": {
      "image/png": "[encoded data removed]",
      "text/plain": [
       "<Figure size 421.55x360 with 1 Axes>"
      ]
     },
     "metadata": {},
     "output_type": "display_data"
    }
   ],
   "source": [
    "sns.set_palette(\"RdBu\")\n",
    "sns.relplot(x=\"Pclass\",             \n",
    "            y=\"Parch\",             \n",
    "            data=titanic,            \n",
    "            kind=\"line\",\n",
    "            hue= 'Survived',\n",
    "            ci=None\n",
    "            )\n",
    "plt.title('how Families located in different calss could make it')"
   ]
  }
 ],
 "metadata": {
  "kernelspec": {
   "display_name": "Python 3",
   "language": "python",
   "name": "python3"
  },
  "language_info": {
   "codemirror_mode": {
    "name": "ipython",
    "version": 3
   },
   "file_extension": ".py",
   "mimetype": "text/x-python",
   "name": "python",
   "nbconvert_exporter": "python",
   "pygments_lexer": "ipython3",
   "version": "3.7.12"
  },
  "papermill": {
   "default_parameters": {},
   "duration": 13.194402,
   "end_time": "2022-09-05T01:18:28.260126",
   "environment_variables": {},
   "exception": null,
   "input_path": "__notebook__.ipynb",
   "output_path": "__notebook__.ipynb",
   "parameters": {},
   "start_time": "2022-09-05T01:18:15.065724",
   "version": "2.3.4"
  }
 },
 "nbformat": 4,
 "nbformat_minor": 5
}
